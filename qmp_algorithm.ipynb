{
 "cells": [
  {
   "cell_type": "code",
   "execution_count": 107,
   "id": "557ba3bf",
   "metadata": {},
   "outputs": [
    {
     "name": "stdout",
     "output_type": "stream",
     "text": [
      "The autoreload extension is already loaded. To reload it, use:\n",
      "  %reload_ext autoreload\n"
     ]
    }
   ],
   "source": [
    "import qiskit.quantum_info as qi  \n",
    "import itertools\n",
    "import numpy as np\n",
    "import random\n",
    "from codes_qmp import *\n",
    "    \n",
    "create_storing_folers()\n",
    "    \n",
    "%load_ext autoreload\n",
    "%autoreload 2"
   ]
  },
  {
   "cell_type": "markdown",
   "id": "1de64f40",
   "metadata": {},
   "source": [
    "By setting `dtype`as *'AME'*, *'pure'* ,  or *'mixed'* , `simul_data` will return a set of marginals and a generator state $\\rho_{gen}$. Pure and mixed generator states are randomly drawn under the Haar and Hilbert-Schmidt measure, respectively.\n",
    "\n",
    "Setting the number of qudits of the global system *`num_of_qudits`*, the local dimension `d` and the number of parties in the marginals `num_of_parties_in_reduced_sys` is required.\n",
    "\n",
    "The code below automatically generate all the possible `labels_marginals` for the given number of qudits in the marginals, but they can bet set manually or chosen at random for a given number of `m` marginals.\n",
    "\n",
    "If `prescribed_spectra`is an empty list, then the algorithm is considering a rank constraint problem and `rank` has to be set in the subsequent cell."
   ]
  },
  {
   "cell_type": "code",
   "execution_count": 108,
   "id": "992a9102",
   "metadata": {},
   "outputs": [
    {
     "name": "stdout",
     "output_type": "stream",
     "text": [
      "[(0, 1), (0, 2), (0, 3), (1, 2), (1, 3), (2, 3)]\n"
     ]
    }
   ],
   "source": [
    "dtype = \"AME\"\n",
    "num_of_qudits = 4\n",
    "d = 4\n",
    "num_of_parties_in_reduced_sys =  int(np.floor(num_of_qudits/2)) \n",
    "\n",
    "labels_marginals = list(itertools.combinations( range( num_of_qudits), \n",
    "                       r = num_of_parties_in_reduced_sys))\n",
    "# m = 4\n",
    "# labels_marginals = random.sample(labels_marginals, m )\n",
    "prescribed_marginals, rho_gen = simul_data(d, num_of_qudits, \n",
    "                                           labels_marginals, dtype = dtype )\n",
    "prescribed_spectra = []\n",
    "print(labels_marginals)"
   ]
  },
  {
   "cell_type": "markdown",
   "id": "94789560",
   "metadata": {},
   "source": [
    "The initial seed is being externally chosen here for the purpose of comparison with the accelerated version. By setting `initial_seed = None`, the initial seed is chosen in the routine. "
   ]
  },
  {
   "cell_type": "code",
   "execution_count": null,
   "id": "82096b51",
   "metadata": {},
   "outputs": [
    {
     "name": "stdout",
     "output_type": "stream",
     "text": [
      "prescribed rank mode..\n",
      "_________________________________\n",
      "      n     tdist     gdist\n",
      "_________________________________\n",
      "      1  2.51843E-01  9.98045E-01\n",
      "    501  9.34595E-02  9.98045E-01\n",
      "   1001  7.67472E-02  9.98045E-01\n",
      "   1501  7.00625E-02  9.98045E-01\n",
      "   2001  6.87510E-02  9.98045E-01\n",
      "   2501  6.84518E-02  9.98045E-01\n",
      "   3001  6.83290E-02  9.98045E-01\n"
     ]
    }
   ],
   "source": [
    "type_of_initial_seed = 'mixed'\n",
    "\n",
    "dtol = 1e-7 # convergence criteria for the overall disntance.\n",
    "rank = 1 # d**num_of_qudits \n",
    "dn = d**num_of_qudits \n",
    "dims = tuple([d for i in range(num_of_qudits)])\n",
    "\n",
    "if type_of_initial_seed == 'mixed':\n",
    "    initial_seed = DensityMatrix(qi.random_density_matrix(dims))\n",
    "elif type_of_initial_seed == 'pure':\n",
    "    initial_seed = DensityMatrix(qi.random_statevector(dims))\n",
    "elif type_of_initial_seed == 'AME':\n",
    "    initial_seed = DensityMatrix(np.identity(dn)/dn, dims)\n",
    "    \n",
    "# initial_seed = None\n",
    "\n",
    "parameters = {'max_iter': 5000, 'dtol': dtol, 'rho_gen': rho_gen, 'x_0':initial_seed,\n",
    "              'save_iter_data': False, 'save_h5':False, 'seed':'mixed', \n",
    "              'iter_to_print':500, 'h5_data_label':'AME', 'h5_name': dtype}\n",
    "\n",
    "results = qmp(d, num_of_qudits, prescribed_marginals, rank = rank, \n",
    "              prescribed_spectra = prescribed_spectra, params = parameters)"
   ]
  },
  {
   "cell_type": "code",
   "execution_count": null,
   "id": "647ca845",
   "metadata": {},
   "outputs": [],
   "source": [
    "# load_h5_data(d, num_of_qudits, stype = 'AME')"
   ]
  },
  {
   "cell_type": "markdown",
   "id": "15dcb26a",
   "metadata": {},
   "source": [
    "The results can be plotted in the next cell."
   ]
  },
  {
   "cell_type": "code",
   "execution_count": null,
   "id": "113190dd",
   "metadata": {},
   "outputs": [],
   "source": [
    "params_plot = {'name':dtype , 'plot_global':True, 'save_plot':False}\n",
    "\n",
    "plot_data(d, num_of_qudits, results['edistance'], results['mdistance'], \n",
    "          results['gdistance'], results['runtime'], params = params_plot )"
   ]
  },
  {
   "cell_type": "markdown",
   "id": "4211592e",
   "metadata": {},
   "source": [
    "### Accelerated version"
   ]
  },
  {
   "cell_type": "code",
   "execution_count": 105,
   "id": "a6bbbc21",
   "metadata": {},
   "outputs": [
    {
     "name": "stdout",
     "output_type": "stream",
     "text": [
      "prescribed rank mode..\n",
      "_________________________________\n",
      "      n     tdist     gdist\n",
      "_________________________________\n",
      "      1  2.72039E-01  9.98045E-01\n",
      "    501  1.10246E-01  9.98045E-01\n",
      "   1001  9.55194E-02  9.98045E-01\n",
      "   1501  7.94938E-02  9.98045E-01\n",
      "   2001  7.62740E-02  9.98045E-01\n"
     ]
    },
    {
     "ename": "KeyboardInterrupt",
     "evalue": "",
     "output_type": "error",
     "traceback": [
      "\u001b[1;31m---------------------------------------------------------------------------\u001b[0m",
      "\u001b[1;31mKeyboardInterrupt\u001b[0m                         Traceback (most recent call last)",
      "\u001b[1;32m<ipython-input-105-02775db07d73>\u001b[0m in \u001b[0;36m<module>\u001b[1;34m\u001b[0m\n\u001b[0;32m      7\u001b[0m                 'alfa':alfa, 'mu':mu, 'bt':bt}\n\u001b[0;32m      8\u001b[0m \u001b[1;33m\u001b[0m\u001b[0m\n\u001b[1;32m----> 9\u001b[1;33m results_accel = accelerated_qmp(d, num_of_qudits, prescribed_marginals, rank = rank, \n\u001b[0m\u001b[0;32m     10\u001b[0m                                 prescribed_spectra = prescribed_spectra, params = parameters_accel)\n",
      "\u001b[1;32m~\\PythonLibraryAcer\\Numerical Study QMP thesis\\QMP_Algorithm\\codes_qmp.py\u001b[0m in \u001b[0;36maccelerated_qmp\u001b[1;34m(d, num_of_qudits, prescribed_marginals, rank, prescribed_spectra, params)\u001b[0m\n\u001b[0;32m    220\u001b[0m     \u001b[1;32mwhile\u001b[0m \u001b[0mtotal_distance\u001b[0m \u001b[1;33m>\u001b[0m \u001b[0mparams\u001b[0m\u001b[1;33m[\u001b[0m\u001b[1;34m'dtol'\u001b[0m\u001b[1;33m]\u001b[0m \u001b[1;32mand\u001b[0m \u001b[0mnumber_of_iterations\u001b[0m \u001b[1;33m<\u001b[0m \u001b[0mparams\u001b[0m\u001b[1;33m[\u001b[0m\u001b[1;34m'max_iter'\u001b[0m\u001b[1;33m]\u001b[0m\u001b[1;33m:\u001b[0m\u001b[1;33m\u001b[0m\u001b[1;33m\u001b[0m\u001b[0m\n\u001b[0;32m    221\u001b[0m \u001b[1;33m\u001b[0m\u001b[0m\n\u001b[1;32m--> 222\u001b[1;33m         x_0 = accelerated_impose_marginals( d, num_of_qudits, x_0, \n\u001b[0m\u001b[0;32m    223\u001b[0m                                            \u001b[0mprescribed_marginals\u001b[0m\u001b[1;33m,\u001b[0m \u001b[0mswapper_d\u001b[0m\u001b[1;33m,\u001b[0m\u001b[1;33m\u001b[0m\u001b[1;33m\u001b[0m\u001b[0m\n\u001b[0;32m    224\u001b[0m                                            alfa_n, alfa, mu, beta)\n",
      "\u001b[1;32m~\\PythonLibraryAcer\\Numerical Study QMP thesis\\QMP_Algorithm\\codes_qmp.py\u001b[0m in \u001b[0;36maccelerated_impose_marginals\u001b[1;34m(d, num_of_qudits, x_0, prescribed_marginals, swapper_d, alfa_n, alfa, mu, beta)\u001b[0m\n\u001b[0;32m    408\u001b[0m         \u001b[0mtr_rho0_I\u001b[0m \u001b[1;33m=\u001b[0m \u001b[0mpartial_trace\u001b[0m\u001b[1;33m(\u001b[0m \u001b[0mx_0\u001b[0m\u001b[1;33m,\u001b[0m \u001b[0mlist\u001b[0m\u001b[1;33m(\u001b[0m\u001b[0mantisys\u001b[0m\u001b[1;33m)\u001b[0m \u001b[1;33m)\u001b[0m\u001b[1;33m\u001b[0m\u001b[1;33m\u001b[0m\u001b[0m\n\u001b[0;32m    409\u001b[0m         d_0 = ( Pj( l, prescribed_marginals[l], d, num_of_qudits, swapper_d ).data \n\u001b[1;32m--> 410\u001b[1;33m                - Pj( l, tr_rho0_I, d, num_of_qudits, swapper_d ).data )/alfa\n\u001b[0m\u001b[0;32m    411\u001b[0m         \u001b[0md_1\u001b[0m \u001b[1;33m=\u001b[0m \u001b[0md_0\u001b[0m \u001b[1;33m+\u001b[0m \u001b[0mbeta\u001b[0m\u001b[1;33m*\u001b[0m\u001b[0md_0\u001b[0m\u001b[1;33m\u001b[0m\u001b[1;33m\u001b[0m\u001b[0m\n\u001b[0;32m    412\u001b[0m         \u001b[0my_0\u001b[0m \u001b[1;33m=\u001b[0m \u001b[0mx_0\u001b[0m\u001b[1;33m.\u001b[0m\u001b[0mdata\u001b[0m \u001b[1;33m+\u001b[0m \u001b[0malfa\u001b[0m\u001b[1;33m*\u001b[0m\u001b[0md_1\u001b[0m\u001b[1;33m\u001b[0m\u001b[1;33m\u001b[0m\u001b[0m\n",
      "\u001b[1;32m~\\PythonLibraryAcer\\Numerical Study QMP thesis\\QMP_Algorithm\\codes_qmp.py\u001b[0m in \u001b[0;36mPj\u001b[1;34m(in_label, marginal, dl, num_of_qudits, swapper_d)\u001b[0m\n\u001b[0;32m    334\u001b[0m         \u001b[0mI1\u001b[0m\u001b[1;33m,\u001b[0m \u001b[0mI2\u001b[0m \u001b[1;33m=\u001b[0m \u001b[0mnp\u001b[0m\u001b[1;33m.\u001b[0m\u001b[0midentity\u001b[0m\u001b[1;33m(\u001b[0m \u001b[0mdl\u001b[0m\u001b[1;33m**\u001b[0m\u001b[0ml1\u001b[0m \u001b[1;33m)\u001b[0m\u001b[1;33m,\u001b[0m \u001b[0mnp\u001b[0m\u001b[1;33m.\u001b[0m\u001b[0midentity\u001b[0m\u001b[1;33m(\u001b[0m \u001b[0mdl\u001b[0m\u001b[1;33m**\u001b[0m\u001b[0ml2\u001b[0m \u001b[1;33m)\u001b[0m\u001b[1;33m\u001b[0m\u001b[1;33m\u001b[0m\u001b[0m\n\u001b[0;32m    335\u001b[0m         \u001b[0mgate\u001b[0m \u001b[1;33m=\u001b[0m \u001b[0mkron\u001b[0m\u001b[1;33m(\u001b[0m \u001b[0mI1\u001b[0m\u001b[1;33m,\u001b[0m \u001b[0mswapper_d\u001b[0m\u001b[1;33m,\u001b[0m \u001b[0mI2\u001b[0m \u001b[1;33m)\u001b[0m\u001b[1;33m\u001b[0m\u001b[1;33m\u001b[0m\u001b[0m\n\u001b[1;32m--> 336\u001b[1;33m         \u001b[0mswapped_matrix\u001b[0m \u001b[1;33m=\u001b[0m \u001b[0mgate\u001b[0m \u001b[1;33m@\u001b[0m \u001b[0mswapped_matrix\u001b[0m \u001b[1;33m@\u001b[0m \u001b[0mgate\u001b[0m\u001b[1;33m\u001b[0m\u001b[1;33m\u001b[0m\u001b[0m\n\u001b[0m\u001b[0;32m    337\u001b[0m \u001b[1;33m\u001b[0m\u001b[0m\n\u001b[0;32m    338\u001b[0m         \u001b[1;32mfor\u001b[0m \u001b[0mi\u001b[0m \u001b[1;32min\u001b[0m \u001b[0mrange\u001b[0m\u001b[1;33m(\u001b[0m \u001b[0mnumOfswapps\u001b[0m \u001b[1;33m)\u001b[0m\u001b[1;33m:\u001b[0m\u001b[1;33m\u001b[0m\u001b[1;33m\u001b[0m\u001b[0m\n",
      "\u001b[1;31mKeyboardInterrupt\u001b[0m: "
     ]
    }
   ],
   "source": [
    "alfa, mu, bt = 1, 1e-10, 0\n",
    "\n",
    "\n",
    "parameters_accel = {'max_iter': 50000, 'dtol': 1e-7, 'rho_gen': rho_gen, 'x_0':initial_seed,\n",
    "              'save_iter_data': False, 'save_h5':False, 'seed':'mixed', 'accelerated':True,\n",
    "              'iter_to_print':500, 'h5_data_label':'AME', 'h5_name': dtype,\n",
    "                'alfa':alfa, 'mu':mu, 'bt':bt}\n",
    "\n",
    "results_accel = accelerated_qmp(d, num_of_qudits, prescribed_marginals, rank = rank, \n",
    "                                prescribed_spectra = prescribed_spectra, params = parameters_accel)"
   ]
  },
  {
   "cell_type": "markdown",
   "id": "da1f848f",
   "metadata": {},
   "source": [
    "### Accelerated version with different parameters"
   ]
  },
  {
   "cell_type": "code",
   "execution_count": null,
   "id": "1b863f8e",
   "metadata": {},
   "outputs": [],
   "source": [
    "alfa, mu, bt = 5, 5.85*1e-4, 0.585\n",
    "\n",
    "parameters_accel1 = {'max_iter': 50000, 'dtol': 1e-7, 'rho_gen': rho_gen, 'x_0':initial_seed,\n",
    "              'save_iter_data': False, 'save_h5':False, 'seed':'mixed', 'accelerated':True,\n",
    "              'iter_to_print':500, 'h5_data_label':'AME', 'h5_name': dtype,\n",
    "                'alfa':alfa, 'mu':mu, 'bt':bt}\n",
    "\n",
    "results_accel1 = accelerated_qmp(d, num_of_qudits, prescribed_marginals, rank = rank, \n",
    "                                prescribed_spectra = prescribed_spectra, params = parameters_accel1)"
   ]
  },
  {
   "cell_type": "markdown",
   "id": "cbce9b2e",
   "metadata": {},
   "source": [
    "### Comparison"
   ]
  },
  {
   "cell_type": "code",
   "execution_count": null,
   "id": "ae865667",
   "metadata": {},
   "outputs": [],
   "source": [
    "gdistance, runtime = results['tdistance'], results['runtime']\n",
    "gdistance_accel, runtime_accel = results_accel['tdistance'], results_accel['runtime']\n",
    "gdistance_accel1, runtime_accel1 = results_accel1['tdistance'], results_accel1['runtime']\n",
    "\n",
    "name_of_plot = 'pure'\n",
    "params = {'name':name_of_plot, 'save_plot':False}\n",
    "compare_plots(d, num_of_qudits, gdistance, gdistance_accel,\n",
    "              gdistance_accel1, runtime, runtime_accel, \n",
    "              runtime_accel1, params = params )\n"
   ]
  },
  {
   "cell_type": "markdown",
   "id": "d297dd86",
   "metadata": {},
   "source": [
    "In the vertical axis the overall distance $\\mathcal{D}_{T}$ is plotted in log scale. In the horizontal axis, the number of iterations.\n",
    "\n",
    "The solid  (<font color='magenta'>magenta</font>) line corresponds to the **non-accelerated** version of the algorithm. The dotted (<font color='royalblue'>blue</font>) and dashed (<font color='forestgreen'>green</font>) lines correspond to the **accelerated** version of the algorithm for different choices of $\\alpha$ and $\\mu$"
   ]
  },
  {
   "cell_type": "code",
   "execution_count": null,
   "id": "8b493e26",
   "metadata": {},
   "outputs": [],
   "source": []
  }
 ],
 "metadata": {
  "kernelspec": {
   "display_name": "Python 3",
   "language": "python",
   "name": "python3"
  },
  "language_info": {
   "codemirror_mode": {
    "name": "ipython",
    "version": 3
   },
   "file_extension": ".py",
   "mimetype": "text/x-python",
   "name": "python",
   "nbconvert_exporter": "python",
   "pygments_lexer": "ipython3",
   "version": "3.8.8"
  }
 },
 "nbformat": 4,
 "nbformat_minor": 5
}
